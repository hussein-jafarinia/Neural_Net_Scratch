{
  "cells": [
    {
      "cell_type": "markdown",
      "metadata": {
        "id": "I90qRc4S1vgm"
      },
      "source": [
        "### This is my implementation of a Neural Network from scratch for a homework in Sharif University of Technology (Majority of codes are from different places)"
      ]
    },
    {
      "cell_type": "code",
      "execution_count": 1,
      "metadata": {
        "id": "y8GOy2dW19v7"
      },
      "outputs": [],
      "source": [
        "import numpy as np\n",
        "import os\n",
        "import matplotlib.pyplot as plt\n",
        "from model import *\n",
        "from linear import *\n",
        "from module import *\n",
        "from optimizer import *\n",
        "from relu import *\n",
        "from sgd import *\n",
        "from sigmoid import *\n",
        "from softmax_crossentropy import *"
      ]
    },
    {
      "cell_type": "markdown",
      "metadata": {
        "id": "oSbUOPo11-q1"
      },
      "source": [
        "## 1. Modules\n",
        "In this problem you see some classes for typical modules used in neural networks. These modules include:\n",
        "\n",
        "1. **`ReLU`**: ReLU activation function\n",
        "\n",
        "2. **`Sigmoid`**: Sigmoid activation function\n",
        "\n",
        "3. **`SoftmaxCrossEntropy`**: A module which represents the softmax activation function followed by a cross entropy loss function.\n",
        "\n",
        "4. **`Linear`**: Fully connected layer which multiplies the input by a weight matrix and adds a bias term to it\n",
        "\n",
        "In this problem you have to implement `forward()` and `backward()` functions of the modules in the above list. Then your implemented codes will be tested here in this notebook.\n"
      ]
    },
    {
      "cell_type": "markdown",
      "metadata": {
        "id": "vKHSlGoN4aZi"
      },
      "source": [
        "### 1.1. Activation Functions\n",
        "Open files `relu.py` and `sigmoid.py`. There you can see **`ReLU`** and **`Sigmoid`** classes. \n",
        "Implement `forward()` and `backward()` functions of theses classes.\n",
        "\n",
        "Here are some tips that might help you:<br/>\n",
        "**1)** `forward()` function of the layers takes an input called `x` which is a numpy 2d-array with shape `(N, D)`. Implement the forward pass corresponding to considered function. Store the results of forward pass in `out`.<br/>\n",
        "**2)** `backward()` function of the layers takes a parameter called `dout`. `dout` is the gradient of loss w.r.t. the ouput of layer in the forward pass. Provided `dout`, you have to compute the gradient w.r.t. the inputs (i.e. `x`)  to the layer. Store the results in `dx`. <br/>\n",
        "**3)** For implementing backward pass, you may need some of the variables computed during forward pass; Save these variables in the `self.cache` attribute of the layer during forward pass and use them in the backward pass.<br/>\n",
        "**4)** Test your implementation with the following cells. You should see a small value as error between your funnctions outputs and `correct output`, `correct_dx` for each activation functions. We get error of orders 1e-8 and less."
      ]
    },
    {
      "cell_type": "code",
      "execution_count": 3,
      "metadata": {
        "id": "rP-EErtUyC9R"
      },
      "outputs": [
        {
          "name": "stdout",
          "output_type": "stream",
          "text": [
            "Relu Test Cell:\n",
            "Relative error forward pass: 1.2327591637534371e-08\n",
            "Relative error backward pass: 0.0\n"
          ]
        }
      ],
      "source": [
        "###########################################################################\n",
        "#                             Relu Test                                   #\n",
        "###########################################################################\n",
        "np.random.seed(22)\n",
        "N = 5\n",
        "d = 6\n",
        "x = np.random.randn(N,d)\n",
        "relu = ReLU('test')\n",
        "print('Relu Test Cell:')\n",
        "output = relu.forward(x)\n",
        "correct_output = [[0.,         0. ,        1.08179168, 0.,         0.  ,       0.        ],\n",
        "                  [0.9188215 , 0.  ,       0.62649346, 0. ,        0.02885512, 0.,        ],\n",
        "                  [0.58775221, 0.75231758, 0.   ,      1.05597241 ,0.74775027, 1.06467659],\n",
        "                  [1.52012959, 0.  ,       1.85998989, 0.  ,       0. ,        0.337325  ],\n",
        "                  [1.04672873 ,0.62914334, 0.36305909, 0.5557497,  0.,         0.02369477]]\n",
        "\n",
        "print('Relative error forward pass:', np.linalg.norm(output - correct_output))\n",
        "    \n",
        "dx = relu.backward(np.ones((N,d), dtype=np.float32))\n",
        "correct_dx = [[0., 0. ,1. ,0. ,0., 0.],\n",
        "              [1., 0. ,1., 0. ,1., 0.],\n",
        "              [1. ,1. ,0. ,1., 1., 1.],\n",
        "              [1. ,0. ,1., 0., 0. ,1.],\n",
        "              [1. ,1. ,1. ,1. ,0., 1.]]\n",
        "print('Relative error backward pass:', np.linalg.norm(dx - correct_dx))"
      ]
    },
    {
      "cell_type": "code",
      "execution_count": 4,
      "metadata": {
        "id": "8bxGWZGDanc4"
      },
      "outputs": [
        {
          "name": "stdout",
          "output_type": "stream",
          "text": [
            "Sigmoid Test Cell:\n",
            "Relative error forward pass: 1.3652868830496266e-08\n",
            "Relative error backward pass: 1.515199259019241e-08\n"
          ]
        }
      ],
      "source": [
        "###########################################################################\n",
        "#                             sigmoid Test                                #\n",
        "###########################################################################\n",
        "np.random.seed(22)\n",
        "N=5\n",
        "d=6\n",
        "x = np.random.randn(N,d)\n",
        "sigmoid = Sigmoid('test')\n",
        "print('Sigmoid Test Cell:')    \n",
        "output = sigmoid.forward(x)\n",
        "correct_output = [[0.4770287,  0.18795539, 0.74683289, 0.44045266, 0.37962761, 0.26849495],\n",
        "                  [0.71480192, 0.24905997, 0.65169394, 0.36319727, 0.50721328, 0.44256287],\n",
        "                  [0.64284923, 0.67968348, 0.25759572, 0.74192012, 0.6786883,  0.74358323],\n",
        "                  [0.82055756, 0.18413151, 0.86529577, 0.16817555, 0.34387488, 0.58354059],\n",
        "                  [0.74014623, 0.65229519, 0.58978075, 0.63546853, 0.25189151, 0.50592342]]\n",
        "    \n",
        "print('Relative error forward pass:', np.linalg.norm(output - correct_output))\n",
        "    \n",
        "dx = sigmoid.backward(np.ones((N,d), dtype=np.float32))\n",
        "correct_dx = [[0.24947232, 0.15262816, 0.18907352, 0.24645411, 0.23551049, 0.19640541],\n",
        "              [0.20386014, 0.1870291,  0.22698895, 0.23128501, 0.24994797, 0.24670098],\n",
        "              [0.2295941,  0.21771385, 0.19124017, 0.19147466, 0.21807049, 0.19066721],\n",
        "              [0.14724285, 0.1502271,  0.116559,   0.13989254, 0.22562495, 0.24302097],\n",
        "              [0.19232979, 0.22680617, 0.24193942, 0.23164828, 0.18844218, 0.24996491]]\n",
        "    \n",
        "print('Relative error backward pass:', np.linalg.norm(dx - correct_dx))\n",
        "    "
      ]
    },
    {
      "cell_type": "markdown",
      "metadata": {
        "id": "VhU008dXEGab"
      },
      "source": [
        "### 1.2. Softmax activation with Cross Entropy loss\n",
        "\n",
        "You have to implement a numerically stable version of softmax in this problem.\n",
        "\n",
        "Open file `softmax_crossentropy.py`. There you see a class for Softmax activation with Cross Entropy loss used in neural networks.\n",
        " \n",
        "\n",
        "Implement `forward()` and `backward()` function of SoftmaxCrossentropy class corresponding to forward and backward pass of softmax activation followed by cross entropy loss. Test your implementation with the following functions. The order of outputs should be 1e-8 or smaller."
      ]
    },
    {
      "cell_type": "code",
      "execution_count": 5,
      "metadata": {
        "id": "gnm4K_L-EbJh"
      },
      "outputs": [
        {
          "name": "stdout",
          "output_type": "stream",
          "text": [
            "Softmax with Cross Entropy Test Cell:\n",
            "1.6883967462546619\n",
            "Loss relative error: 0.0\n",
            "Gradient relative error: 1.695804576567757e-08\n"
          ]
        }
      ],
      "source": [
        "###########################################################################\n",
        "#                  Softmax with Cross Entropy Test                        #\n",
        "###########################################################################\n",
        "np.random.seed(22)\n",
        "N=5\n",
        "d=6\n",
        "  \n",
        "x = np.linspace(1000, 1015, num=N*d).reshape(N,d)\n",
        "y = np.random.randint(0, d, (N, ))\n",
        "    \n",
        "softmax_ce = SoftmaxCrossentropy('test')\n",
        "print('Softmax with Cross Entropy Test Cell:')    \n",
        "loss, _ = softmax_ce.forward(x, y=y)\n",
        "dx = softmax_ce.backward()\n",
        "    \n",
        "    \n",
        "correct_loss = 1.6883967462546619\n",
        "print('Loss relative error:', np.abs(loss - correct_loss))\n",
        "    \n",
        "correct_dx = [[ 0.00636809,  0.0106818,   0.01791759,  0.03005485,  0.05041383, -0.11543615],\n",
        "              [ 0.00636809,  0.0106818,   0.01791759,  0.03005485, -0.14958617,  0.08456385],\n",
        "              [ 0.00636809,  0.0106818,   0.01791759,  0.03005485, -0.14958617,  0.08456385],\n",
        "              [-0.19363191,  0.0106818,   0.01791759,  0.03005485,  0.05041383,  0.08456385],\n",
        "              [ 0.00636809,  0.0106818,   0.01791759,  0.03005485, -0.14958617,  0.08456385]]\n",
        "print('Gradient relative error:', np.linalg.norm(dx - correct_dx))"
      ]
    },
    {
      "cell_type": "markdown",
      "metadata": {
        "id": "GY2kXfpbMwPO"
      },
      "source": [
        "### 1.3. Linear\n",
        "Open file `linear.py`. There you see a class for linear (or fully connected) layer used in neural networks.<br/> \n",
        "\n",
        "Implement `forward()` and `backward()` functions corresponding to forward and backward pass of a linear layer.<br/>\n",
        " \n",
        "We have implemented `__init__()` constructor for you. You can see `W`, `b`, `dW`, `db` variables in this class.\n",
        "\n",
        "In the forward pass, You have to output $y=XW+b$ in which $W$ and $b$ are parameters of the layer. In the backward pass you get $\\large{\\frac{\\partial{loss}}{\\partial{y}}}$ as `dout`; You have to compute $\\large{\\frac{\\partial{loss}}{\\partial{X}}}$, $\\large{\\frac{\\partial{loss}}{\\partial{W}}}$ and $\\large{\\frac{\\partial{loss}}{\\partial{b}}}$ and save them in `dx`, `dW`, and `db`. The output of the `backward()` function will be `dx`. \n",
        "\n",
        "Note that a linear layer with the shape of weights $(D, K)$ represents a layer in a MLP with $K$ neurons (or units). In other words, it takes a $D$-dimensional input and gives back a $K$-dimensional ouput.\n",
        "\n",
        "Test your implementation with the following functions. The order of ouputs should be 1e-8 or smaller."
      ]
    },
    {
      "cell_type": "code",
      "execution_count": 6,
      "metadata": {
        "id": "y0FyQoJ8NiDi"
      },
      "outputs": [
        {
          "name": "stdout",
          "output_type": "stream",
          "text": [
            "Relative error forward pass: 1.223759443671177e-08\n",
            "Relative error dx: 1.2514524575828446e-08\n",
            "Relative error dw: 7.449439033436333e-09\n",
            "Relative error db: 3.529100840673046e-09\n"
          ]
        }
      ],
      "source": [
        "###########################################################################\n",
        "#                         Linear Test                            #\n",
        "###########################################################################\n",
        "np.random.seed(22)\n",
        "D = 4\n",
        "K = 3\n",
        "N = 5\n",
        "x = np.random.randn(N,D)\n",
        "linear = Linear('test', D, K, l2_coef=1.)\n",
        "output = linear.forward(x)\n",
        "    \n",
        "correct_output = [[-0.51242952, -1.47921276, -2.32943713],\n",
        "                  [-1.17901283, -2.60908172,  0.54809823],\n",
        "                  [ 0.74600461, -2.24752841, -1.1013558 ],\n",
        "                  [ 0.75284837,  1.80111973, -2.27011589],\n",
        "                  [ 2.03171234, -3.05396933,  1.35213333]]\n",
        "    \n",
        "print('Relative error forward pass:', np.linalg.norm(output - correct_output))\n",
        "    \n",
        "dout = np.random.randn(N, K)\n",
        "dx = linear.backward(dout)\n",
        "    \n",
        "correct_dx = [[-0.25519113, -0.09724317,  0.280189,    0.87644613],\n",
        "              [ 1.20379991, -0.78816259, -1.27930227, -4.1952743 ],\n",
        "              [-0.77808532, -0.05005675, -3.14028536, -8.02818572],\n",
        "              [ 0.95446653, -1.90375857,  1.62080372,  3.57597736],\n",
        "              [ 2.86716776, -1.39892213,  0.31786772, -0.88234943]]\n",
        "print('Relative error dx:', np.linalg.norm(dx - correct_dx))\n",
        "    \n",
        "correct_dW = [[ 3.33629487, -4.43357113, -1.89100503],\n",
        "              [ 1.31103323,  2.17687036, -2.33906146],\n",
        "              [ 1.69538051, -0.89256682, -0.86018824],\n",
        "              [-0.87944724,  7.48073741, -7.0605863 ]]\n",
        "print('Relative error dw:', np.linalg.norm(linear.dW - correct_dW))\n",
        "    \n",
        "correct_db = [-1.02223284, -3.61915576, -0.16696389]\n",
        "print('Relative error db:', np.linalg.norm(linear.db - correct_db))"
      ]
    },
    {
      "cell_type": "markdown",
      "metadata": {
        "id": "DbIbV_oku_fq"
      },
      "source": [
        "## 2. Optimization Algorithm\n",
        "\n",
        "Open file `sgd.py`.<br/> \n",
        "you have to implement `SGD` class.\n",
        "\n",
        "Test your implementation with the following cells. The order of errors should be 1e-8 or smaller."
      ]
    },
    {
      "cell_type": "code",
      "execution_count": 7,
      "metadata": {
        "colab": {
          "base_uri": "https://localhost:8080/"
        },
        "id": "AMwdZUmqRMQO",
        "outputId": "e7454185-e7fe-4eae-d03e-310677864cce"
      },
      "outputs": [
        {
          "name": "stdout",
          "output_type": "stream",
          "text": [
            "W Relative error: 1.4426196588173724e-08\n",
            "b Relative error:  5.771526066321419e-09\n"
          ]
        }
      ],
      "source": [
        "###########################################################################\n",
        "#                           SGD Test                             #\n",
        "###########################################################################\n",
        "N, D = 5, 4\n",
        "np.random.seed(22)\n",
        "linear = Linear('test', N, D, l2_coef=1.)\n",
        "linear.dW = np.random.randn(N, D)\n",
        "linear.db = np.random.randn(D,)\n",
        "\n",
        "sgd = SGD(1e-2)\n",
        "\n",
        "sgd.update(linear)\n",
        "\n",
        "correct_W = [[-0.10241721, -1.46964209,  1.07816109, -0.24488267],\n",
        "             [-0.48024364, -1.00250896,  0.89382974, -1.0787318 ],\n",
        "             [ 0.62884208, -0.56053815,  0.03772041, -0.22940006],\n",
        "             [ 0.58673243,  0.75482687, -1.05771443,  1.06682406],\n",
        "             [ 0.74180098,  1.07106567,  1.53120796, -1.50966439]]\n",
        "correct_b = [ 1.86566377, -1.59381353, -0.62684131,  0.33332912]\n",
        "\n",
        "print('W Relative error:', np.linalg.norm(correct_W - linear.W))\n",
        "print('b Relative error: ', np.linalg.norm(correct_b - linear.b))"
      ]
    },
    {
      "cell_type": "markdown",
      "metadata": {
        "id": "B78R9RWgKWFD"
      },
      "source": [
        "## 3. Test Network on CIFAR10\n",
        "CIFAR10 is a dataset of 50,000 32x32x3 color training images and 10,000 test images, labeled over 10 categories (labels are 0 to 9)\n"
      ]
    },
    {
      "cell_type": "code",
      "execution_count": 9,
      "metadata": {
        "id": "bedhflJ8RE_n"
      },
      "outputs": [],
      "source": [
        "from tensorflow.keras.datasets import cifar10"
      ]
    },
    {
      "cell_type": "markdown",
      "metadata": {
        "id": "YzulAL2CTz5Y"
      },
      "source": [
        "### 3.1. Load Data\n",
        "download the dataset using cifar10.load_data() and store the results into (X_train, y_train), (X_val, y_val)"
      ]
    },
    {
      "cell_type": "code",
      "execution_count": 11,
      "metadata": {
        "id": "_lx0mp8vOfZf",
        "scrolled": true
      },
      "outputs": [
        {
          "name": "stdout",
          "output_type": "stream",
          "text": [
            "Downloading data from https://www.cs.toronto.edu/~kriz/cifar-10-python.tar.gz\n",
            "170498071/170498071 [==============================] - 74s 0us/step\n",
            "(50000, 32, 32, 3) (50000, 1)\n",
            "(10000, 32, 32, 3) (10000, 1)\n"
          ]
        }
      ],
      "source": [
        "(X_train, y_train), (X_val, y_val)= cifar10.load_data()\n",
        "print(X_train.shape, y_train.shape)\n",
        "print(X_val.shape, y_val.shape)"
      ]
    },
    {
      "cell_type": "markdown",
      "metadata": {
        "id": "3po6F_CYOfZf"
      },
      "source": [
        "flatten the images (reshape the images to single dimension vectors)"
      ]
    },
    {
      "cell_type": "code",
      "execution_count": 12,
      "metadata": {
        "id": "cOFG4QMjOfZf"
      },
      "outputs": [
        {
          "data": {
            "text/plain": [
              "((50000, 3072), (10000, 3072))"
            ]
          },
          "execution_count": 12,
          "metadata": {},
          "output_type": "execute_result"
        }
      ],
      "source": [
        "X_train_flattened = X_train.reshape(X_train.shape[0], 32 * 32 * 3) # flatten each image in X_train\n",
        "X_val_flattened = X_val.reshape(X_val.shape[0], 32 * 32 * 3) # flatten each image in X_val\n",
        "X_train_flattened.shape, X_val_flattened.shape"
      ]
    },
    {
      "cell_type": "markdown",
      "metadata": {
        "id": "Fm6WcPL8OfZg"
      },
      "source": [
        "convert the labels to scalers (using `np.squeeze()` method)"
      ]
    },
    {
      "cell_type": "code",
      "execution_count": 14,
      "metadata": {
        "id": "jp-q_Uw2OfZg"
      },
      "outputs": [
        {
          "data": {
            "text/plain": [
              "((50000,), (10000,))"
            ]
          },
          "execution_count": 14,
          "metadata": {},
          "output_type": "execute_result"
        }
      ],
      "source": [
        "y_train_squeezed =  np.squeeze(y_train) # squeeze y_train\n",
        "y_val_squeezed = np.squeeze(y_val) # squeeze y_val\n",
        "y_train_squeezed.shape, y_val_squeezed.shape"
      ]
    },
    {
      "cell_type": "markdown",
      "metadata": {
        "id": "Z0oq5JkMOfZg"
      },
      "source": [
        "### 3.2. Normalization\n",
        " Run the cell below."
      ]
    },
    {
      "cell_type": "code",
      "execution_count": 19,
      "metadata": {
        "id": "EsctzHrpOfZg"
      },
      "outputs": [
        {
          "name": "stdout",
          "output_type": "stream",
          "text": [
            "255 0\n",
            "255 0\n"
          ]
        }
      ],
      "source": [
        "print(X_train_flattened.max(), X_train_flattened.min())\n",
        "print(X_val_flattened.max(), X_val_flattened.min())"
      ]
    },
    {
      "cell_type": "markdown",
      "metadata": {
        "id": "JeiQ7zurOfZh"
      },
      "source": [
        "rgb values range from 0 to 255. normalize the data by dividing every value by 255."
      ]
    },
    {
      "cell_type": "code",
      "execution_count": 20,
      "metadata": {
        "id": "OGMC2nHbOfZh",
        "scrolled": true
      },
      "outputs": [
        {
          "name": "stdout",
          "output_type": "stream",
          "text": [
            "1.0 0.0\n",
            "1.0 0.0\n"
          ]
        }
      ],
      "source": [
        "X_train_flattened = X_train_flattened / 255 # devide X_train by 255\n",
        "X_val_flattened = X_val_flattened / 255 # devide X_val by 255\n",
        "print(X_train_flattened.max(), X_train_flattened.min())\n",
        "print(X_val_flattened.max(), X_val_flattened.min())"
      ]
    },
    {
      "cell_type": "markdown",
      "metadata": {
        "id": "NJNdvzNHOfZh"
      },
      "source": [
        "### 3.3. Plot Function\n",
        "This function get a history of training (loss, acc, val_loss, val_acc) as input and plots it."
      ]
    },
    {
      "cell_type": "code",
      "execution_count": 21,
      "metadata": {
        "id": "4Q35JDeqOfZh",
        "scrolled": true
      },
      "outputs": [],
      "source": [
        "def plot_history(history):\n",
        "    losses, accs, val_losses, val_accs = history\n",
        "    x = [i for i in range(len(losses))]\n",
        "    \n",
        "    # plot for losses\n",
        "    plt.plot(x, losses, '-g', label='train')\n",
        "    plt.plot(x, val_losses, '-r', label='validation')\n",
        "    plt.xlabel('epoch')\n",
        "    plt.ylabel('loss')\n",
        "    plt.legend(loc='upper right')\n",
        "    plt.show()\n",
        "    \n",
        "    # plot for accuracies\n",
        "    plt.plot(x, accs, '-g', label='train')\n",
        "    plt.plot(x, val_accs, '-r', label='validation')\n",
        "    plt.xlabel('epoch')\n",
        "    plt.ylabel('accuracy')\n",
        "    plt.legend(loc='upper left')\n",
        "    plt.show()"
      ]
    },
    {
      "cell_type": "markdown",
      "metadata": {
        "id": "Q3XG5NOyOfZi"
      },
      "source": [
        "# 2. Run the model\n",
        "\n",
        "model specification:\n",
        "\n",
        "\n",
        "1.   1 hidden layer with 100 neurons (use `Linear` module)\n",
        "2.   one of the activation functions (`ReLU` or `sigmoid`)\n",
        "3.   a 10 neurons output layer (use `Linear` module)\n",
        "4.   softmax corss entropy loss (use `SoftmaxCrossentropy` module)\n",
        "\n",
        "\n",
        "\n",
        "We train the model for 10 epochs and `batch_size = 1024`. We also plot the history of training.\n",
        "\n",
        "You can use `model.add(Module)` to add a module to the model. The modules are added in order.\n",
        "It's also recommended to read the `model.py` file."
      ]
    },
    {
      "cell_type": "code",
      "execution_count": 44,
      "metadata": {
        "id": "t_1Mw7xYOfZj",
        "scrolled": true
      },
      "outputs": [
        {
          "name": "stdout",
          "output_type": "stream",
          "text": [
            "Epoch 1: 9.773753669130038\n",
            "10.340940143563547\n",
            "10.118451431483177\n",
            "8.798582289659409\n",
            "9.380750276690554\n",
            "8.989313212494128\n",
            "8.298586797177006\n",
            "7.517557990846282\n",
            "6.778256482206764\n",
            "6.494503015615784\n",
            "6.439674643815243\n",
            "6.624626610722698\n",
            "6.440059580906958\n",
            "6.49798250972902\n",
            "6.531362365581115\n",
            "6.703882129824015\n",
            "6.846993803006413\n",
            "6.948890461815528\n",
            "6.263879459568166\n",
            "5.79500187822349\n",
            "5.767011069278679\n",
            "5.832086718543042\n",
            "5.837289265636425\n",
            "5.66524478354263\n",
            "5.714923296941416\n",
            "5.762929128932143\n",
            "5.690777567634722\n",
            "5.847768659087475\n",
            "5.721312825396405\n",
            "5.7309855326433965\n",
            "5.733252302580684\n",
            "5.87802769412468\n",
            "5.6523544598247994\n",
            "5.7016264119239795\n",
            "5.707807811183254\n",
            "5.624011833098351\n",
            "5.758515766338772\n",
            "5.720152724996394\n",
            "5.7293196610762465\n",
            "5.679523305624368\n",
            "5.711268404346155\n",
            "5.726204744090029\n",
            "5.81460995838398\n",
            "5.672213514407556\n",
            "5.768785092738076\n",
            "5.763008172884487\n",
            "5.649662212423996\n",
            "5.5637051161430495\n",
            "5.696703962086471\n",
            "5.604099884109411\n",
            "5.598827919330779\n",
            "5.5613765991093675\n",
            "5.690827568075293\n",
            "5.8141653105204005\n",
            "5.641580310942301\n",
            "5.693954243486857\n",
            "5.605879237826049\n",
            "loss = 6.5002, acc = 0.1000, val_loss = 5.6564, val_acc = 0.0984\n",
            "Epoch 2: 5.577505314969419\n",
            "5.5700788153641305\n",
            "5.7126759611757\n",
            "5.782860559332535\n",
            "5.585836721847632\n",
            "5.552744719640621\n",
            "5.653131650936901\n",
            "5.5292613952269\n",
            "5.5704846530811825\n",
            "5.548020790797622\n",
            "5.66803522385354\n",
            "5.52385126484941\n",
            "5.312303515323391\n",
            "5.3287036935525105\n",
            "5.429604426998291\n",
            "5.377229918518944\n",
            "5.29246326958647\n",
            "5.248754364173211\n",
            "5.258094393906005\n",
            "5.326125321916725\n",
            "5.4288513129592\n",
            "5.401183988453132\n",
            "5.235308533203572\n",
            "5.372757394708252\n",
            "5.331982022305835\n",
            "5.262685497396966\n",
            "5.376995217696832\n",
            "5.143332248601985\n",
            "4.876510007727835\n",
            "4.718293420019885\n",
            "4.757725255547614\n",
            "4.665043168744257\n",
            "4.625620009505141\n",
            "4.548181835037296\n",
            "4.651260972126182\n",
            "4.658513523479062\n",
            "4.520303069285935\n",
            "4.493759810970376\n",
            "4.552542759545587\n",
            "4.714494525688356\n",
            "4.528390427135944\n",
            "4.5938840940744665\n",
            "4.534222350135206\n",
            "4.453191400470078\n",
            "4.541690325427524\n",
            "4.459492614821055\n",
            "4.527483580965055\n",
            "4.535937982360052\n",
            "4.526635114307715\n",
            "4.540701622465115\n",
            "4.504854151159277\n",
            "4.404802959538974\n",
            "4.517606305277802\n",
            "4.5720856100406255\n",
            "4.534149323573439\n",
            "4.409518128905811\n",
            "4.527051146092195\n",
            "loss = 5.0908, acc = 0.0963, val_loss = 4.5042, val_acc = 0.0981\n",
            "Epoch 3: 4.448981935917964\n",
            "4.491880397327126\n",
            "4.316638443051108\n",
            "4.228773667810925\n",
            "3.458362361128903\n",
            "3.492235396743732\n",
            "3.5526729207158962\n",
            "3.3675015509703448\n",
            "3.3875141198012493\n",
            "3.390596792322092\n",
            "3.4224561870814334\n",
            "3.438230314473979\n",
            "3.4030123802285757\n",
            "3.441502217637403\n",
            "3.3817383548934545\n",
            "3.490388131627797\n",
            "3.467573125093667\n",
            "3.4046011061768313\n",
            "3.373639379988855\n",
            "3.421428223000179\n",
            "3.3931010606394936\n",
            "3.3576524099467204\n",
            "3.3633414353660336\n",
            "3.410885161935849\n",
            "3.4928413120353623\n",
            "3.3851393009106054\n",
            "3.4023568154538237\n",
            "3.444712979386092\n",
            "3.4518493332865465\n",
            "3.4450365044334403\n",
            "3.3970425344604536\n",
            "3.330009706183275\n",
            "3.3303527156303856\n",
            "3.38808778377596\n",
            "3.4378982202422326\n",
            "3.414631407581627\n",
            "3.419229041392902\n",
            "3.360802948464935\n",
            "3.3519111564732365\n",
            "3.465012127843867\n",
            "3.3782953524810058\n",
            "3.3421464780278924\n",
            "3.403415726936431\n",
            "3.3871752617287005\n",
            "3.3695817857404347\n",
            "3.3551749453680655\n",
            "3.4009226199338256\n",
            "3.381253875182829\n",
            "3.448915329037048\n",
            "3.309405943482202\n",
            "3.4295926174688853\n",
            "3.3570413286868277\n",
            "3.4155043599606665\n",
            "3.466978757806424\n",
            "3.3633281959817882\n",
            "3.3983436114386643\n",
            "3.3033454898024517\n",
            "loss = 3.4883, acc = 0.1007, val_loss = 3.3881, val_acc = 0.0955\n",
            "Epoch 4: 3.293186071014351\n",
            "3.418508519830647\n",
            "3.3825542269909508\n",
            "3.4351042327732433\n",
            "3.322836943950323\n",
            "3.4153541685330593\n",
            "3.3327016178361055\n",
            "3.401028889131547\n",
            "3.2740384670851364\n",
            "3.3633937145207233\n",
            "3.359874813537539\n",
            "3.275229141124975\n",
            "3.3641069315689442\n",
            "3.3959240544081233\n",
            "3.297516306137382\n",
            "3.394313537465682\n",
            "3.430557689204045\n",
            "3.3530073433398537\n",
            "3.3871994847519566\n",
            "3.2799744887703373\n",
            "3.34757237336441\n",
            "3.3427017589118284\n",
            "3.3334799893804634\n",
            "3.363808585527432\n",
            "3.316603541626292\n",
            "3.35811584300163\n",
            "3.400954690772406\n",
            "3.4846292002055765\n",
            "3.802312506735617\n",
            "4.089382769608443\n",
            "3.9564988000043955\n",
            "4.0334788108394335\n",
            "3.995505946168637\n",
            "4.06653286336475\n",
            "4.035114911213137\n",
            "3.925669392532283\n",
            "4.0181504541268795\n",
            "3.983905105347267\n",
            "4.053877205208156\n",
            "4.040799684802721\n",
            "3.995747862215966\n",
            "4.037324616569394\n",
            "3.8726468629703\n",
            "3.9689919405673098\n",
            "4.065214808903381\n",
            "3.992297559146178\n",
            "4.01018331981947\n",
            "4.004854893739461\n",
            "3.926762834660275\n",
            "3.98760199494578\n",
            "3.9768391028568106\n",
            "3.967890183651829\n",
            "3.9959872575964983\n",
            "4.016940842906397\n",
            "4.052443491318599\n",
            "3.8657956697610993\n",
            "3.9706953987458284\n",
            "loss = 3.6265, acc = 0.1006, val_loss = 3.9734, val_acc = 0.1048\n",
            "Epoch 5: 3.975004324985978\n",
            "3.9236142480114493\n",
            "4.002806663000811\n",
            "3.9314177873808154\n",
            "3.9686976301665124\n",
            "3.9541659589301146\n",
            "3.9994990543919364\n",
            "3.8821747442306798\n",
            "3.951897816324315\n",
            "4.050259943999747\n",
            "3.8749330283220598\n",
            "3.9400682215194376\n",
            "3.8873821067347643\n",
            "3.985006052766251\n",
            "3.9547049235008918\n",
            "3.934942686047874\n",
            "3.929348501920776\n",
            "3.9725241598752685\n",
            "3.9280412443595365\n",
            "3.9773158772460944\n",
            "3.950360755238142\n",
            "3.9594455346569766\n",
            "4.030274334560013\n",
            "4.024378281861884\n",
            "3.954156326090056\n",
            "3.913147031317211\n",
            "3.9132415343778044\n",
            "3.9874271052598074\n",
            "3.9894508648414826\n",
            "4.0366152520925835\n",
            "3.864661259390176\n",
            "3.8847694986328207\n",
            "3.9642971426318065\n",
            "3.993922695486753\n",
            "3.874716846246796\n",
            "3.90031914498425\n",
            "3.9248864763537856\n",
            "3.986717108026072\n",
            "3.875198771390107\n",
            "3.9280000821686727\n",
            "4.004750869144876\n",
            "3.775627086974132\n",
            "3.944644558016278\n",
            "3.9787799134974478\n",
            "3.9365750900829237\n",
            "3.8826642182928763\n",
            "3.868487098138271\n",
            "3.848461437607693\n",
            "3.958521521396584\n",
            "3.939517236576987\n",
            "3.856198289811217\n",
            "3.8947740222639955\n",
            "3.9585914604092407\n",
            "3.9624176926053067\n",
            "3.897515375052177\n",
            "3.96365071706773\n",
            "3.927269586760305\n",
            "loss = 3.9421, acc = 0.1005, val_loss = 3.9287, val_acc = 0.0949\n",
            "Epoch 6: 3.9423093105058653\n",
            "3.9174698341725165\n",
            "3.850847665301862\n",
            "3.9505170895533652\n",
            "3.9388707357940973\n",
            "3.925494763657758\n",
            "3.865300482754339\n",
            "3.8628833116356973\n",
            "3.905657803818526\n",
            "3.945029053198865\n",
            "3.98561434572445\n",
            "3.8268393793284927\n",
            "3.8312883072334403\n",
            "3.858498102739806\n",
            "3.9188058168079714\n",
            "3.8977325166474315\n",
            "3.9312823663866974\n",
            "3.904046878839598\n",
            "3.89693624178277\n",
            "3.8044381342136764\n",
            "3.8131288295323054\n",
            "3.899718890088974\n",
            "3.9061632272047264\n",
            "3.8224532556652857\n",
            "3.8575677509159347\n",
            "3.8302126317110794\n",
            "3.927547776878746\n",
            "3.8492506122651076\n",
            "3.898294495655873\n",
            "3.8512517012579313\n",
            "3.795470302834978\n",
            "3.911865160129556\n",
            "3.752047031729943\n",
            "3.861288376593067\n",
            "3.871779545937102\n",
            "3.8188198029666633\n",
            "3.843782825954054\n",
            "3.894290748277095\n",
            "3.955270538156208\n",
            "3.845189334825334\n",
            "3.8458121727786247\n",
            "3.7878713854475974\n",
            "3.7479417717834607\n",
            "3.931302548453062\n",
            "3.84542280218315\n",
            "3.8306295968552817\n",
            "3.933557488947394\n",
            "3.8282649843966423\n",
            "3.7940243388972914\n",
            "3.816091579358394\n",
            "3.794440244172253\n",
            "3.757176209035786\n",
            "3.824604965378226\n",
            "3.8346916968980094\n",
            "3.882143881751326\n",
            "3.890576550078836\n",
            "3.849375532164234\n",
            "loss = 3.8733, acc = 0.0996, val_loss = 3.8270, val_acc = 0.0996\n",
            "Epoch 7: 3.8534867657215006\n",
            "3.792825633550736\n",
            "3.843841437859777\n",
            "3.813318021867586\n",
            "3.821622894708952\n",
            "3.856337953716026\n",
            "3.758434474599341\n",
            "3.840546080853084\n",
            "3.9464403765446736\n",
            "3.8136692056922543\n",
            "3.8537935605046028\n",
            "3.8748598117764246\n",
            "3.826639186386115\n",
            "3.807044962000713\n",
            "3.7823175339626194\n",
            "3.866675727778395\n",
            "3.8341779392883\n",
            "3.797900522992496\n",
            "3.82388836636905\n",
            "3.824216171774225\n",
            "3.829316195676859\n",
            "3.7638060384600216\n",
            "3.7813011845355864\n",
            "3.763108181349858\n",
            "3.7609197273947794\n",
            "3.767848057704765\n",
            "3.7884681824089017\n",
            "3.888040199592152\n",
            "3.799288890512994\n",
            "3.7861378649920328\n",
            "3.8513182076964814\n",
            "3.760689315109942\n",
            "3.776795346749916\n",
            "3.784992275099454\n",
            "3.8091909351828033\n",
            "3.8337559670772325\n",
            "3.848228002636758\n",
            "3.794582228398873\n",
            "3.7804976432184345\n",
            "3.7792883454470854\n",
            "3.739739243914505\n",
            "3.752598071908707\n",
            "3.805726704548528\n",
            "3.6703445656198266\n",
            "3.8574987170986352\n",
            "3.75731106006722\n",
            "3.7936471958482523\n",
            "3.828986525344509\n",
            "3.760926950414745\n",
            "3.79467097275979\n",
            "3.830942732286114\n",
            "3.7987303095022433\n",
            "3.773887067060559\n",
            "3.678883380050544\n",
            "3.728493166641715\n",
            "3.8737978820268744\n",
            "3.6275391405586577\n",
            "loss = 3.8080, acc = 0.0987, val_loss = 3.7631, val_acc = 0.1019\n",
            "Epoch 8: 3.6907903342430037\n",
            "3.78489834534468\n",
            "3.8306622521208302\n",
            "3.788421939039523\n",
            "3.8433771796051968\n",
            "3.814425622529927\n",
            "3.765745141417228\n",
            "3.717018683370256\n",
            "3.799134040680544\n",
            "3.577272027505664\n",
            "3.816444417013627\n",
            "3.7461221723751237\n",
            "3.682852514439239\n",
            "3.697204422437107\n",
            "3.9080509402140877\n",
            "3.7667940001643863\n",
            "3.784415952362699\n",
            "3.776393475448391\n",
            "3.80170437596114\n",
            "3.786005287482042\n",
            "3.802074749666647\n",
            "3.7016359365608933\n",
            "3.7246979657074846\n",
            "3.693915030007501\n",
            "3.810047401652601\n",
            "3.779233260986935\n",
            "3.7951899199453147\n",
            "3.7465964321826077\n",
            "3.779967155957771\n",
            "3.7820703246801157\n",
            "3.6927866600575574\n",
            "3.7132500722378996\n",
            "3.7479285772101356\n",
            "3.7350640323305506\n",
            "3.7735541495989313\n",
            "3.6590230295350112\n",
            "3.725783657035742\n",
            "3.716246956119356\n",
            "3.684564093612147\n",
            "3.707681605637105\n",
            "3.64383244691411\n",
            "3.798177053120055\n",
            "3.7469664629778157\n",
            "3.7917719496185542\n",
            "3.6575190485707187\n",
            "3.6469498883646683\n",
            "3.7190371342560993\n",
            "3.611812268521582\n",
            "3.7114334334533865\n",
            "3.7103917116534513\n",
            "3.672118107392611\n",
            "3.6762314145454846\n",
            "3.7224783897190514\n",
            "3.7496081213036114\n",
            "3.7454745297308776\n",
            "3.7918650577326716\n",
            "3.77686013527306\n",
            "loss = 3.7451, acc = 0.0998, val_loss = 3.7285, val_acc = 0.0967\n",
            "Epoch 9: 3.697631574302669\n",
            "3.6952482241822775\n",
            "3.785214038382258\n",
            "3.70589605706516\n",
            "3.772537164119153\n",
            "3.689020590691689\n",
            "3.684472699410736\n",
            "3.7273901235118605\n",
            "3.7423337183485486\n",
            "3.702372281071031\n",
            "3.796476869705752\n",
            "3.7340260072539317\n",
            "3.7549566279429314\n",
            "3.669261218937563\n",
            "3.748267307882732\n",
            "3.6982337201388753\n",
            "3.765883249080723\n",
            "3.6057468866447167\n",
            "3.651128325922242\n",
            "3.769938874793824\n",
            "3.6616444877235534\n",
            "3.7227150569015106\n",
            "3.7303563884867974\n",
            "3.683804035051671\n",
            "3.673408642423791\n",
            "3.6854997276006047\n",
            "3.664480407846507\n",
            "3.6437854586973235\n",
            "3.6897427839796615\n",
            "3.7274922394657946\n",
            "3.73867655730026\n",
            "3.706696242525176\n",
            "3.65478255746401\n",
            "3.6599641662301163\n",
            "3.656510681099137\n",
            "3.7127501815040898\n",
            "3.7140531997114543\n",
            "3.6161294092423644\n",
            "3.671888648297273\n",
            "3.569379278024549\n",
            "3.5967820483977437\n",
            "3.6119815914205597\n",
            "3.7155516234065056\n",
            "3.675416275137338\n",
            "3.6634006249175366\n",
            "3.618303257524171\n",
            "3.5561600866842324\n",
            "3.640242224948029\n",
            "3.667743381429238\n",
            "3.683132615045594\n",
            "3.705322762152483\n",
            "3.626764365768958\n",
            "3.6708769441690663\n",
            "3.6549772781142176\n",
            "3.579662285641668\n",
            "3.589953818139852\n",
            "3.6319956735174608\n",
            "loss = 3.6887, acc = 0.0985, val_loss = 3.6456, val_acc = 0.0987\n",
            "Epoch 10: 3.692130547068119\n",
            "3.6290255888622895\n",
            "3.58655753063732\n",
            "3.6440463375171506\n",
            "3.609136899301073\n",
            "3.6626482286054554\n",
            "3.519737876880642\n",
            "3.6408860313158558\n",
            "3.6376692119185465\n",
            "3.6375666602222543\n",
            "3.6845291258935626\n",
            "3.6480055947234797\n",
            "3.6444595195282194\n",
            "3.575666794071025\n",
            "3.588563734897746\n",
            "3.6348956943911594\n",
            "3.6359724153196256\n",
            "3.584040989023593\n",
            "3.6740578828389245\n",
            "3.588955279644925\n",
            "3.634642428706907\n",
            "3.66218813118681\n",
            "3.622837944860763\n",
            "3.602611747139834\n",
            "3.5828861669321954\n",
            "3.5963238493324896\n",
            "3.699994256343924\n",
            "3.605765667294047\n",
            "3.630209594441661\n",
            "3.66433754202434\n",
            "3.6191491468704022\n",
            "3.608279115406217\n",
            "3.577214365970727\n",
            "3.6944027237207915\n",
            "3.6118216622497137\n",
            "3.581604470800816\n",
            "3.62573914062601\n",
            "3.591340568661865\n",
            "3.583420407236347\n",
            "3.6478732088235963\n",
            "3.552312036748691\n",
            "3.65152456693753\n",
            "3.600225301184998\n",
            "3.625630515070542\n",
            "3.630781140969333\n",
            "3.591739472624544\n",
            "3.531684034124239\n",
            "3.5793093842377517\n",
            "3.6045241100845535\n",
            "3.645033277208728\n",
            "3.6365791634188795\n",
            "3.577469105415193\n",
            "3.6082035082784993\n",
            "3.619734017878074\n",
            "3.5764411763487938\n",
            "3.532210260235493\n",
            "3.6371570489000504\n",
            "loss = 3.6193, acc = 0.1019, val_loss = 3.6042, val_acc = 0.1011\n"
          ]
        },
        {
          "data": {
            "image/png": "[encoded data removed]",
            "text/plain": [
              "<Figure size 432x288 with 1 Axes>"
            ]
          },
          "metadata": {
            "needs_background": "light"
          },
          "output_type": "display_data"
        },
        {
          "data": {
            "image/png": "[encoded data removed]",
            "text/plain": [
              "<Figure size 432x288 with 1 Axes>"
            ]
          },
          "metadata": {
            "needs_background": "light"
          },
          "output_type": "display_data"
        }
      ],
      "source": [
        "# todo : set suitable learning rate (1, 0.1, 0.01, 0.001)\n",
        "lr = 0.001 #\n",
        "model = Model(SGD(learning_rate=lr))\n",
        "#################################################################################\n",
        "# todo : add the layers to the model                                            #\n",
        "#        choose suitable l2_coef for both linear layers (1e-2, 1e-3, 1e-4, 1e-5)#\n",
        "# ###############################################################################\n",
        "# model.add(Linear(\"test\", 100, 100, l2_coef=1e-2))\n",
        "# model.add(ReLU(\"test\"))\n",
        "# model.add(Linear(\"test\", 100, 10, l2_coef=1e-2))\n",
        "# model.add(SoftmaxCrossentropy(\"test\"))\n",
        "my_linear = Linear(\"test\", 3072, 100, l2_coef=1e-4)\n",
        "model.add(my_linear)\n",
        "my_relu = Sigmoid(\"test\")\n",
        "model.add(my_relu)\n",
        "my_linear2 = Linear(\"test\", 100, 10, l2_coef=1e-4)\n",
        "model.add(my_linear2)\n",
        "softmaxcrossentropy = SoftmaxCrossentropy(\"test\")\n",
        "model.add(softmaxcrossentropy)\n",
        "#################################################################################\n",
        "#                             end of code                                       #\n",
        "#################################################################################\n",
        "history = model.fit(X_train_flattened, y_train_squeezed, X_val_flattened, y_val_squeezed, batch_size=1024, epochs=10)\n",
        "plot_history(history)"
      ]
    }
  ],
  "metadata": {
    "colab": {
      "collapsed_sections": [],
      "name": "Copy of Part1.ipynb",
      "provenance": [],
      "toc_visible": true
    },
    "interpreter": {
      "hash": "f25003f7e2a58fe7a2136f4a1806bc5c1cb2dd7a1c980b3cbe05b6c5f6f01de6"
    },
    "kernelspec": {
      "display_name": "Python 3.10.4 ('ML_For_Bio_miniforge')",
      "language": "python",
      "name": "python3"
    },
    "language_info": {
      "codemirror_mode": {
        "name": "ipython",
        "version": 3
      },
      "file_extension": ".py",
      "mimetype": "text/x-python",
      "name": "python",
      "nbconvert_exporter": "python",
      "pygments_lexer": "ipython3",
      "version": "3.10.4"
    }
  },
  "nbformat": 4,
  "nbformat_minor": 0
}
